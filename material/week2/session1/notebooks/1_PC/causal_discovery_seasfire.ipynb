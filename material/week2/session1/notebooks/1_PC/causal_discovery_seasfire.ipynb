{
 "cells": [
  {
   "cell_type": "markdown",
   "id": "1c4d94cf",
   "metadata": {},
   "source": [
    "# Causal Discovery on SEASFIRE Dataset"
   ]
  },
  {
   "cell_type": "code",
   "execution_count": 1,
   "id": "81c66efb",
   "metadata": {},
   "outputs": [],
   "source": [
    "# !pip install pybnesian causallearn pandas networkx matplotlib"
   ]
  },
  {
   "cell_type": "code",
   "execution_count": 1,
   "id": "21fe8ccd",
   "metadata": {},
   "outputs": [],
   "source": [
    "import networkx as nx\n",
    "import matplotlib.pyplot as plt\n",
    "import pandas as pd\n",
    "import numpy as np \n",
    "import seaborn as sns\n",
    "from utils import *"
   ]
  },
  {
   "cell_type": "code",
   "execution_count": 2,
   "id": "a58290b2",
   "metadata": {},
   "outputs": [],
   "source": [
    "folder = \"/home/emiliano/Documents/ISP/meditwin_workshop/causal-drought-fire/data/processed/\"#/causal-drought-fire/data/processed/\""
   ]
  },
  {
   "cell_type": "code",
   "execution_count": 3,
   "id": "3a5d66bb",
   "metadata": {},
   "outputs": [
    {
     "data": {
      "text/plain": [
       "['/home/emiliano/Documents/ISP/meditwin_workshop/causal-drought-fire/data/processed/rotated_loadings_ws10.csv',\n",
       " '/home/emiliano/Documents/ISP/meditwin_workshop/causal-drought-fire/data/processed/dataframe_SeasFire_EDID_ET_8D_2001_2021.csv',\n",
       " '/home/emiliano/Documents/ISP/meditwin_workshop/causal-drought-fire/data/processed/PCA_correlation_matrix_ws10.csv',\n",
       " '/home/emiliano/Documents/ISP/meditwin_workshop/causal-drought-fire/data/processed/dataframe_ws10.csv']"
      ]
     },
     "execution_count": 3,
     "metadata": {},
     "output_type": "execute_result"
    }
   ],
   "source": [
    "import glob\n",
    "glob.glob(folder + \"*.csv\")"
   ]
  },
  {
   "cell_type": "code",
   "execution_count": 4,
   "id": "c4e927c8",
   "metadata": {},
   "outputs": [
    {
     "data": {
      "text/html": [
       "<div>\n",
       "<style scoped>\n",
       "    .dataframe tbody tr th:only-of-type {\n",
       "        vertical-align: middle;\n",
       "    }\n",
       "\n",
       "    .dataframe tbody tr th {\n",
       "        vertical-align: top;\n",
       "    }\n",
       "\n",
       "    .dataframe thead th {\n",
       "        text-align: right;\n",
       "    }\n",
       "</style>\n",
       "<table border=\"1\" class=\"dataframe\">\n",
       "  <thead>\n",
       "    <tr style=\"text-align: right;\">\n",
       "      <th></th>\n",
       "      <th>Unnamed: 0</th>\n",
       "      <th>drought_ecosystem</th>\n",
       "      <th>drought_distance</th>\n",
       "      <th>drought_severity</th>\n",
       "      <th>drought_ecosys_1M</th>\n",
       "      <th>drought_ecosys_3M</th>\n",
       "      <th>drought_ecosys_6M</th>\n",
       "      <th>drought_ecosys_12M</th>\n",
       "      <th>drought_dist_1M</th>\n",
       "      <th>drought_dist_3M</th>\n",
       "      <th>...</th>\n",
       "      <th>swvl1</th>\n",
       "      <th>swvl2</th>\n",
       "      <th>swvl3</th>\n",
       "      <th>swvl4</th>\n",
       "      <th>t2m_max</th>\n",
       "      <th>t2m_mean</th>\n",
       "      <th>t2m_min</th>\n",
       "      <th>tp</th>\n",
       "      <th>vpd</th>\n",
       "      <th>ws10</th>\n",
       "    </tr>\n",
       "  </thead>\n",
       "  <tbody>\n",
       "    <tr>\n",
       "      <th>0</th>\n",
       "      <td>0</td>\n",
       "      <td>0.0</td>\n",
       "      <td>5.622328</td>\n",
       "      <td>0.0</td>\n",
       "      <td>0.0</td>\n",
       "      <td>0.0</td>\n",
       "      <td>0.0</td>\n",
       "      <td>0.0</td>\n",
       "      <td>5.622328</td>\n",
       "      <td>5.622328</td>\n",
       "      <td>...</td>\n",
       "      <td>0.305250</td>\n",
       "      <td>0.306393</td>\n",
       "      <td>0.148809</td>\n",
       "      <td>0.306593</td>\n",
       "      <td>282.97388</td>\n",
       "      <td>281.39722</td>\n",
       "      <td>279.44278</td>\n",
       "      <td>76.351990</td>\n",
       "      <td>1.805403</td>\n",
       "      <td>6.368570</td>\n",
       "    </tr>\n",
       "    <tr>\n",
       "      <th>1</th>\n",
       "      <td>1</td>\n",
       "      <td>0.0</td>\n",
       "      <td>5.622328</td>\n",
       "      <td>0.0</td>\n",
       "      <td>0.0</td>\n",
       "      <td>0.0</td>\n",
       "      <td>0.0</td>\n",
       "      <td>0.0</td>\n",
       "      <td>5.622328</td>\n",
       "      <td>5.622328</td>\n",
       "      <td>...</td>\n",
       "      <td>0.296929</td>\n",
       "      <td>0.299654</td>\n",
       "      <td>0.148582</td>\n",
       "      <td>0.308864</td>\n",
       "      <td>279.18283</td>\n",
       "      <td>277.36752</td>\n",
       "      <td>275.49326</td>\n",
       "      <td>34.510662</td>\n",
       "      <td>1.886388</td>\n",
       "      <td>5.340193</td>\n",
       "    </tr>\n",
       "    <tr>\n",
       "      <th>2</th>\n",
       "      <td>2</td>\n",
       "      <td>0.0</td>\n",
       "      <td>5.622328</td>\n",
       "      <td>0.0</td>\n",
       "      <td>0.0</td>\n",
       "      <td>0.0</td>\n",
       "      <td>0.0</td>\n",
       "      <td>0.0</td>\n",
       "      <td>5.622328</td>\n",
       "      <td>5.622328</td>\n",
       "      <td>...</td>\n",
       "      <td>0.293871</td>\n",
       "      <td>0.295429</td>\n",
       "      <td>0.144639</td>\n",
       "      <td>0.307132</td>\n",
       "      <td>281.57010</td>\n",
       "      <td>279.38480</td>\n",
       "      <td>277.04614</td>\n",
       "      <td>54.702568</td>\n",
       "      <td>1.406108</td>\n",
       "      <td>5.256960</td>\n",
       "    </tr>\n",
       "    <tr>\n",
       "      <th>3</th>\n",
       "      <td>3</td>\n",
       "      <td>0.0</td>\n",
       "      <td>5.622328</td>\n",
       "      <td>0.0</td>\n",
       "      <td>0.0</td>\n",
       "      <td>0.0</td>\n",
       "      <td>0.0</td>\n",
       "      <td>0.0</td>\n",
       "      <td>5.622328</td>\n",
       "      <td>5.622328</td>\n",
       "      <td>...</td>\n",
       "      <td>0.299307</td>\n",
       "      <td>0.301484</td>\n",
       "      <td>0.149155</td>\n",
       "      <td>0.306837</td>\n",
       "      <td>280.44977</td>\n",
       "      <td>278.75024</td>\n",
       "      <td>277.02512</td>\n",
       "      <td>24.830835</td>\n",
       "      <td>1.459190</td>\n",
       "      <td>4.545062</td>\n",
       "    </tr>\n",
       "    <tr>\n",
       "      <th>4</th>\n",
       "      <td>4</td>\n",
       "      <td>0.0</td>\n",
       "      <td>5.622328</td>\n",
       "      <td>0.0</td>\n",
       "      <td>0.0</td>\n",
       "      <td>0.0</td>\n",
       "      <td>0.0</td>\n",
       "      <td>0.0</td>\n",
       "      <td>5.622328</td>\n",
       "      <td>5.622328</td>\n",
       "      <td>...</td>\n",
       "      <td>0.304691</td>\n",
       "      <td>0.305012</td>\n",
       "      <td>0.148286</td>\n",
       "      <td>0.306945</td>\n",
       "      <td>283.02057</td>\n",
       "      <td>281.62106</td>\n",
       "      <td>279.96985</td>\n",
       "      <td>83.491295</td>\n",
       "      <td>1.752788</td>\n",
       "      <td>6.687118</td>\n",
       "    </tr>\n",
       "  </tbody>\n",
       "</table>\n",
       "<p>5 rows × 70 columns</p>\n",
       "</div>"
      ],
      "text/plain": [
       "   Unnamed: 0  drought_ecosystem  drought_distance  drought_severity  \\\n",
       "0           0                0.0          5.622328               0.0   \n",
       "1           1                0.0          5.622328               0.0   \n",
       "2           2                0.0          5.622328               0.0   \n",
       "3           3                0.0          5.622328               0.0   \n",
       "4           4                0.0          5.622328               0.0   \n",
       "\n",
       "   drought_ecosys_1M  drought_ecosys_3M  drought_ecosys_6M  \\\n",
       "0                0.0                0.0                0.0   \n",
       "1                0.0                0.0                0.0   \n",
       "2                0.0                0.0                0.0   \n",
       "3                0.0                0.0                0.0   \n",
       "4                0.0                0.0                0.0   \n",
       "\n",
       "   drought_ecosys_12M  drought_dist_1M  drought_dist_3M  ...     swvl1  \\\n",
       "0                 0.0         5.622328         5.622328  ...  0.305250   \n",
       "1                 0.0         5.622328         5.622328  ...  0.296929   \n",
       "2                 0.0         5.622328         5.622328  ...  0.293871   \n",
       "3                 0.0         5.622328         5.622328  ...  0.299307   \n",
       "4                 0.0         5.622328         5.622328  ...  0.304691   \n",
       "\n",
       "      swvl2     swvl3     swvl4    t2m_max   t2m_mean    t2m_min         tp  \\\n",
       "0  0.306393  0.148809  0.306593  282.97388  281.39722  279.44278  76.351990   \n",
       "1  0.299654  0.148582  0.308864  279.18283  277.36752  275.49326  34.510662   \n",
       "2  0.295429  0.144639  0.307132  281.57010  279.38480  277.04614  54.702568   \n",
       "3  0.301484  0.149155  0.306837  280.44977  278.75024  277.02512  24.830835   \n",
       "4  0.305012  0.148286  0.306945  283.02057  281.62106  279.96985  83.491295   \n",
       "\n",
       "        vpd      ws10  \n",
       "0  1.805403  6.368570  \n",
       "1  1.886388  5.340193  \n",
       "2  1.406108  5.256960  \n",
       "3  1.459190  4.545062  \n",
       "4  1.752788  6.687118  \n",
       "\n",
       "[5 rows x 70 columns]"
      ]
     },
     "execution_count": 4,
     "metadata": {},
     "output_type": "execute_result"
    }
   ],
   "source": [
    "\n",
    "data_path = \"dataframe_SeasFire_EDID_ET_8D_2001_2021.csv\"\n",
    "df = pd.read_csv(folder+data_path)\n",
    "df.head()"
   ]
  },
  {
   "cell_type": "code",
   "execution_count": 5,
   "id": "bd042227",
   "metadata": {},
   "outputs": [
    {
     "data": {
      "text/plain": [
       "6.599712"
      ]
     },
     "execution_count": 5,
     "metadata": {},
     "output_type": "execute_result"
    }
   ],
   "source": [
    "df.shape[0]/1e6"
   ]
  },
  {
   "cell_type": "code",
   "execution_count": 6,
   "id": "d76841d6",
   "metadata": {},
   "outputs": [
    {
     "data": {
      "text/plain": [
       "0.317906"
      ]
     },
     "execution_count": 6,
     "metadata": {},
     "output_type": "execute_result"
    }
   ],
   "source": [
    "df = df.loc[df.lccs_class_2>80]\n",
    "df.shape[0]/1e6"
   ]
  },
  {
   "cell_type": "code",
   "execution_count": 7,
   "id": "9ed94a96",
   "metadata": {},
   "outputs": [
    {
     "data": {
      "text/plain": [
       "Index(['Unnamed: 0', 'drought_ecosystem', 'drought_distance',\n",
       "       'drought_severity', 'drought_ecosys_1M', 'drought_ecosys_3M',\n",
       "       'drought_ecosys_6M', 'drought_ecosys_12M', 'drought_dist_1M',\n",
       "       'drought_dist_3M', 'drought_dist_6M', 'drought_dist_12M', 'latitude',\n",
       "       'longitude', 'time', 'cams_co2fire', 'cams_frpfire', 'drought_code_max',\n",
       "       'drought_code_mean', 'fcci_ba', 'fcci_ba_valid_mask',\n",
       "       'fcci_fraction_of_burnable_area', 'fcci_fraction_of_observed_area',\n",
       "       'fcci_number_of_patches', 'fwi_max', 'fwi_mean', 'gfed_ba',\n",
       "       'gfed_ba_valid_mask', 'gwis_ba', 'gwis_ba_valid_mask', 'lai',\n",
       "       'lccs_class_0', 'lccs_class_1', 'lccs_class_2', 'lccs_class_3',\n",
       "       'lccs_class_4', 'lccs_class_5', 'lccs_class_6', 'lccs_class_7',\n",
       "       'lccs_class_8', 'lst_day', 'mslp', 'ndvi', 'oci_ao', 'oci_censo',\n",
       "       'oci_ea', 'oci_epo', 'oci_gmsst', 'oci_nao', 'oci_nina34_anom',\n",
       "       'oci_pdo', 'oci_pna', 'oci_soi', 'oci_wp', 'pop_dens', 'rel_hum', 'skt',\n",
       "       'ssr', 'ssrd', 'sst', 'swvl1', 'swvl2', 'swvl3', 'swvl4', 't2m_max',\n",
       "       't2m_mean', 't2m_min', 'tp', 'vpd', 'ws10'],\n",
       "      dtype='object')"
      ]
     },
     "execution_count": 7,
     "metadata": {},
     "output_type": "execute_result"
    }
   ],
   "source": [
    "df.columns"
   ]
  },
  {
   "cell_type": "code",
   "execution_count": 8,
   "id": "75127abe",
   "metadata": {},
   "outputs": [],
   "source": [
    "selected_vars = [\"drought_distance\",\"drought_ecosystem\",\"fwi_mean\",\"ndvi\",\"oci_nao\",\"pop_dens\",\"rel_hum\",\"vpd\",\"t2m_mean\"]"
   ]
  },
  {
   "cell_type": "code",
   "execution_count": 9,
   "id": "f6464d40",
   "metadata": {},
   "outputs": [
    {
     "data": {
      "text/plain": [
       "(316983, 9)"
      ]
     },
     "execution_count": 9,
     "metadata": {},
     "output_type": "execute_result"
    }
   ],
   "source": [
    "data = df[selected_vars].dropna()\n",
    "data.shape\n"
   ]
  },
  {
   "cell_type": "markdown",
   "id": "c9e38a93",
   "metadata": {},
   "source": [
    "## 1. Structure Learning using PyBnesian"
   ]
  },
  {
   "cell_type": "code",
   "execution_count": 10,
   "id": "b2aa9220",
   "metadata": {},
   "outputs": [],
   "source": [
    "from pybnesian import PC, LinearCorrelation"
   ]
  },
  {
   "cell_type": "code",
   "execution_count": 11,
   "id": "1f39259e",
   "metadata": {},
   "outputs": [],
   "source": [
    "pcMod = PC()\n",
    "# the data goes into the inependence test object which is weird\n",
    "linCorr = LinearCorrelation(data)\n",
    "alpha = 0.1\n",
    "g = pcMod.estimate(hypot_test=linCorr, alpha=alpha)"
   ]
  },
  {
   "cell_type": "code",
   "execution_count": 12,
   "id": "cadcfe4e",
   "metadata": {},
   "outputs": [
    {
     "data": {
      "text/plain": [
       "['drought_distance',\n",
       " 'drought_ecosystem',\n",
       " 'fwi_mean',\n",
       " 'ndvi',\n",
       " 'oci_nao',\n",
       " 'pop_dens',\n",
       " 'rel_hum',\n",
       " 'vpd',\n",
       " 't2m_mean']"
      ]
     },
     "execution_count": 12,
     "metadata": {},
     "output_type": "execute_result"
    }
   ],
   "source": [
    "# nodes of graph\n",
    "g.nodes()"
   ]
  },
  {
   "cell_type": "code",
   "execution_count": 13,
   "id": "2583e85d",
   "metadata": {},
   "outputs": [
    {
     "data": {
      "text/plain": [
       "[('drought_ecosystem', 'pop_dens')]"
      ]
     },
     "execution_count": 13,
     "metadata": {},
     "output_type": "execute_result"
    }
   ],
   "source": [
    "# edges (directed)\n",
    "g.edges()"
   ]
  },
  {
   "cell_type": "code",
   "execution_count": 14,
   "id": "b46aa301",
   "metadata": {},
   "outputs": [
    {
     "data": {
      "text/plain": [
       "[('drought_distance', 'drought_ecosystem'),\n",
       " ('drought_distance', 'pop_dens'),\n",
       " ('drought_ecosystem', 'oci_nao'),\n",
       " ('ndvi', 'fwi_mean'),\n",
       " ('drought_distance', 'ndvi'),\n",
       " ('ndvi', 'rel_hum'),\n",
       " ('ndvi', 'pop_dens'),\n",
       " ('fwi_mean', 't2m_mean'),\n",
       " ('drought_distance', 't2m_mean'),\n",
       " ('ndvi', 'vpd'),\n",
       " ('vpd', 't2m_mean'),\n",
       " ('oci_nao', 'vpd'),\n",
       " ('t2m_mean', 'fwi_mean'),\n",
       " ('rel_hum', 'fwi_mean'),\n",
       " ('vpd', 'oci_nao'),\n",
       " ('pop_dens', 'fwi_mean'),\n",
       " ('pop_dens', 'rel_hum'),\n",
       " ('drought_ecosystem', 'vpd'),\n",
       " ('drought_ecosystem', 'fwi_mean'),\n",
       " ('rel_hum', 't2m_mean'),\n",
       " ('t2m_mean', 'ndvi'),\n",
       " ('oci_nao', 'ndvi'),\n",
       " ('ndvi', 'drought_ecosystem'),\n",
       " ('drought_distance', 'oci_nao'),\n",
       " ('rel_hum', 'vpd'),\n",
       " ('t2m_mean', 'rel_hum'),\n",
       " ('vpd', 'fwi_mean'),\n",
       " ('t2m_mean', 'vpd')]"
      ]
     },
     "execution_count": 14,
     "metadata": {},
     "output_type": "execute_result"
    }
   ],
   "source": [
    "# arcs (undirected)\n",
    "g.arcs()"
   ]
  },
  {
   "cell_type": "code",
   "execution_count": 15,
   "id": "7964f3a3",
   "metadata": {},
   "outputs": [
    {
     "data": {
      "text/plain": [
       "['ndvi', 'drought_ecosystem', 'rel_hum', 'vpd', 'pop_dens', 't2m_mean']"
      ]
     },
     "execution_count": 15,
     "metadata": {},
     "output_type": "execute_result"
    }
   ],
   "source": [
    "# get parents of fwi_mean\n",
    "g.parents(\"fwi_mean\")"
   ]
  },
  {
   "cell_type": "code",
   "execution_count": 16,
   "id": "54825648",
   "metadata": {},
   "outputs": [
    {
     "name": "stdout",
     "output_type": "stream",
     "text": [
      "28\n",
      "1\n"
     ]
    }
   ],
   "source": [
    "# number of arcs and edges\n",
    "print(g.num_arcs())\n",
    "print(g.num_edges())"
   ]
  },
  {
   "cell_type": "code",
   "execution_count": 17,
   "id": "cfd6de8c",
   "metadata": {},
   "outputs": [],
   "source": [
    "# get the adjacency matrix from edge and arc list\n",
    "arcs = g.arcs()\n",
    "edges = g.edges()\n",
    "nodes = g.nodes()\n"
   ]
  },
  {
   "cell_type": "code",
   "execution_count": 19,
   "id": "543b7f81",
   "metadata": {},
   "outputs": [
    {
     "data": {
      "text/html": [
       "<div>\n",
       "<style scoped>\n",
       "    .dataframe tbody tr th:only-of-type {\n",
       "        vertical-align: middle;\n",
       "    }\n",
       "\n",
       "    .dataframe tbody tr th {\n",
       "        vertical-align: top;\n",
       "    }\n",
       "\n",
       "    .dataframe thead th {\n",
       "        text-align: right;\n",
       "    }\n",
       "</style>\n",
       "<table border=\"1\" class=\"dataframe\">\n",
       "  <thead>\n",
       "    <tr style=\"text-align: right;\">\n",
       "      <th></th>\n",
       "      <th>drought_distance</th>\n",
       "      <th>drought_ecosystem</th>\n",
       "      <th>fwi_mean</th>\n",
       "      <th>ndvi</th>\n",
       "      <th>oci_nao</th>\n",
       "      <th>pop_dens</th>\n",
       "      <th>rel_hum</th>\n",
       "      <th>vpd</th>\n",
       "      <th>t2m_mean</th>\n",
       "    </tr>\n",
       "  </thead>\n",
       "  <tbody>\n",
       "    <tr>\n",
       "      <th>drought_distance</th>\n",
       "      <td>0</td>\n",
       "      <td>1</td>\n",
       "      <td>0</td>\n",
       "      <td>1</td>\n",
       "      <td>1</td>\n",
       "      <td>1</td>\n",
       "      <td>0</td>\n",
       "      <td>0</td>\n",
       "      <td>1</td>\n",
       "    </tr>\n",
       "    <tr>\n",
       "      <th>drought_ecosystem</th>\n",
       "      <td>1</td>\n",
       "      <td>0</td>\n",
       "      <td>1</td>\n",
       "      <td>1</td>\n",
       "      <td>1</td>\n",
       "      <td>1</td>\n",
       "      <td>0</td>\n",
       "      <td>1</td>\n",
       "      <td>0</td>\n",
       "    </tr>\n",
       "    <tr>\n",
       "      <th>fwi_mean</th>\n",
       "      <td>0</td>\n",
       "      <td>1</td>\n",
       "      <td>0</td>\n",
       "      <td>1</td>\n",
       "      <td>0</td>\n",
       "      <td>1</td>\n",
       "      <td>1</td>\n",
       "      <td>1</td>\n",
       "      <td>1</td>\n",
       "    </tr>\n",
       "    <tr>\n",
       "      <th>ndvi</th>\n",
       "      <td>1</td>\n",
       "      <td>1</td>\n",
       "      <td>1</td>\n",
       "      <td>0</td>\n",
       "      <td>1</td>\n",
       "      <td>1</td>\n",
       "      <td>1</td>\n",
       "      <td>1</td>\n",
       "      <td>1</td>\n",
       "    </tr>\n",
       "    <tr>\n",
       "      <th>oci_nao</th>\n",
       "      <td>1</td>\n",
       "      <td>1</td>\n",
       "      <td>0</td>\n",
       "      <td>1</td>\n",
       "      <td>0</td>\n",
       "      <td>0</td>\n",
       "      <td>0</td>\n",
       "      <td>1</td>\n",
       "      <td>0</td>\n",
       "    </tr>\n",
       "    <tr>\n",
       "      <th>pop_dens</th>\n",
       "      <td>1</td>\n",
       "      <td>0</td>\n",
       "      <td>1</td>\n",
       "      <td>1</td>\n",
       "      <td>0</td>\n",
       "      <td>0</td>\n",
       "      <td>1</td>\n",
       "      <td>0</td>\n",
       "      <td>0</td>\n",
       "    </tr>\n",
       "    <tr>\n",
       "      <th>rel_hum</th>\n",
       "      <td>0</td>\n",
       "      <td>0</td>\n",
       "      <td>1</td>\n",
       "      <td>1</td>\n",
       "      <td>0</td>\n",
       "      <td>1</td>\n",
       "      <td>0</td>\n",
       "      <td>1</td>\n",
       "      <td>1</td>\n",
       "    </tr>\n",
       "    <tr>\n",
       "      <th>vpd</th>\n",
       "      <td>0</td>\n",
       "      <td>1</td>\n",
       "      <td>1</td>\n",
       "      <td>1</td>\n",
       "      <td>1</td>\n",
       "      <td>0</td>\n",
       "      <td>1</td>\n",
       "      <td>0</td>\n",
       "      <td>1</td>\n",
       "    </tr>\n",
       "    <tr>\n",
       "      <th>t2m_mean</th>\n",
       "      <td>1</td>\n",
       "      <td>0</td>\n",
       "      <td>1</td>\n",
       "      <td>1</td>\n",
       "      <td>0</td>\n",
       "      <td>0</td>\n",
       "      <td>1</td>\n",
       "      <td>1</td>\n",
       "      <td>0</td>\n",
       "    </tr>\n",
       "  </tbody>\n",
       "</table>\n",
       "</div>"
      ],
      "text/plain": [
       "                   drought_distance  drought_ecosystem  fwi_mean  ndvi  \\\n",
       "drought_distance                  0                  1         0     1   \n",
       "drought_ecosystem                 1                  0         1     1   \n",
       "fwi_mean                          0                  1         0     1   \n",
       "ndvi                              1                  1         1     0   \n",
       "oci_nao                           1                  1         0     1   \n",
       "pop_dens                          1                  0         1     1   \n",
       "rel_hum                           0                  0         1     1   \n",
       "vpd                               0                  1         1     1   \n",
       "t2m_mean                          1                  0         1     1   \n",
       "\n",
       "                   oci_nao  pop_dens  rel_hum  vpd  t2m_mean  \n",
       "drought_distance         1         1        0    0         1  \n",
       "drought_ecosystem        1         1        0    1         0  \n",
       "fwi_mean                 0         1        1    1         1  \n",
       "ndvi                     1         1        1    1         1  \n",
       "oci_nao                  0         0        0    1         0  \n",
       "pop_dens                 0         0        1    0         0  \n",
       "rel_hum                  0         1        0    1         1  \n",
       "vpd                      1         0        1    0         1  \n",
       "t2m_mean                 0         0        1    1         0  "
      ]
     },
     "execution_count": 19,
     "metadata": {},
     "output_type": "execute_result"
    }
   ],
   "source": [
    "adjacency_matrix = get_adjacency_matrix(arcs, edges, nodes)\n",
    "adjacency_matrix"
   ]
  },
  {
   "cell_type": "code",
   "execution_count": 20,
   "id": "8d6725c7",
   "metadata": {},
   "outputs": [
    {
     "data": {
      "image/png": "[encoded data removed]",
      "text/plain": [
       "<Figure size 640x480 with 1 Axes>"
      ]
     },
     "metadata": {},
     "output_type": "display_data"
    }
   ],
   "source": [
    "draw_cpdag(arcs, edges, nodes)"
   ]
  },
  {
   "cell_type": "markdown",
   "id": "3eabdfa2",
   "metadata": {},
   "source": [
    "### Lets try a nonlinear independence test"
   ]
  },
  {
   "cell_type": "code",
   "execution_count": 22,
   "id": "df290913",
   "metadata": {},
   "outputs": [],
   "source": [
    "from pybnesian import KMutualInformation"
   ]
  },
  {
   "cell_type": "code",
   "execution_count": null,
   "id": "6565d195",
   "metadata": {},
   "outputs": [],
   "source": [
    "pcMod = PC()\n",
    "# the data goes into the inependence test object which is weird\n",
    "km = KMutualInformation(data, k=5)\n",
    "alpha = 0.1\n",
    "g = pcMod.estimate(hypot_test=km, alpha=alpha)"
   ]
  },
  {
   "cell_type": "code",
   "execution_count": null,
   "id": "4af93a64",
   "metadata": {},
   "outputs": [],
   "source": [
    "# get the adjacency matrix from edge and arc list\n",
    "arcs = g.arcs()\n",
    "edges = g.edges()\n",
    "nodes = g.nodes()\n"
   ]
  },
  {
   "cell_type": "code",
   "execution_count": null,
   "id": "9be8b566",
   "metadata": {},
   "outputs": [],
   "source": [
    "adjacency_matrix = get_adjacency_matrix(arcs, edges, nodes)\n",
    "adjacency_matrix"
   ]
  },
  {
   "cell_type": "code",
   "execution_count": null,
   "id": "737d132a",
   "metadata": {},
   "outputs": [],
   "source": [
    "draw_cpdag(arcs, edges, nodes)"
   ]
  },
  {
   "cell_type": "markdown",
   "id": "91d8a76f",
   "metadata": {},
   "source": [
    "## 2. Structure Learning using CausalLearn"
   ]
  },
  {
   "cell_type": "code",
   "execution_count": null,
   "id": "efcbdcfd",
   "metadata": {},
   "outputs": [],
   "source": [
    "from causallearn.search.ConstraintBased.PC import pc\n",
    "from causallearn.utils.cit import fisherz\n",
    "from causallearn.utils.GraphUtils import GraphUtils\n",
    "data_matrix = data.to_numpy()\n",
    "pc_result = pc(data_matrix, alpha=0.01, indep_test_func=fisherz)\n",
    "G_pc = GraphUtils.to_nx_graph(pc_result.G)\n",
    "G_pc.nodes"
   ]
  },
  {
   "cell_type": "markdown",
   "id": "c8eeaee2",
   "metadata": {},
   "source": [
    "## 3. Visualize CausalLearn Result"
   ]
  },
  {
   "cell_type": "code",
   "execution_count": null,
   "id": "38f1aa05",
   "metadata": {},
   "outputs": [],
   "source": [
    "import networkx as nx\n",
    "import matplotlib.pyplot as plt\n",
    "plt.figure(figsize=(8,6))\n",
    "nx.draw(G_pc, with_labels=True, node_size=500, font_size=10)\n",
    "plt.title(\"Causal Graph (PC - CausalLearn)\")\n",
    "plt.show()"
   ]
  },
  {
   "cell_type": "markdown",
   "id": "5cb9f2cc",
   "metadata": {},
   "source": [
    "## 4. Compare PyBnesian and CausalLearn Graphs"
   ]
  },
  {
   "cell_type": "code",
   "execution_count": null,
   "id": "922c66bb",
   "metadata": {},
   "outputs": [],
   "source": [
    "from networkx.algorithms.similarity import graph_edit_distance\n",
    "# PyBnesian graph\n",
    "G_bn = nx.DiGraph()\n",
    "for edge in bn.edges():\n",
    "    G_bn.add_edge(edge[0], edge[1])\n",
    "# Align nodes\n",
    "nodes = set(G_bn.nodes()).intersection(set(G_pc.nodes()))\n",
    "G_bn = G_bn.subgraph(nodes).copy()\n",
    "G_pc = G_pc.subgraph(nodes).copy()\n",
    "G_pc_directed = nx.DiGraph(G_pc)\n",
    "# Graph edit distance\n",
    "edit_distance = graph_edit_distance(G_bn, G_pc_directed)\n",
    "print(\"Graph Edit Distance:\", edit_distance)\n",
    "# Jaccard\n",
    "edges_bn = set(G_bn.edges())\n",
    "edges_pc = set(G_pc_directed.edges())\n",
    "intersection = len(edges_bn & edges_pc)\n",
    "union = len(edges_bn | edges_pc)\n",
    "jaccard = intersection / union if union > 0 else 0\n",
    "print(\"Edge Jaccard Similarity:\", jaccard)\n",
    "# Precision & Recall\n",
    "precision = intersection / len(edges_pc) if edges_pc else 0\n",
    "recall = intersection / len(edges_bn) if edges_bn else 0\n",
    "print(\"Precision:\", precision)\n",
    "print(\"Recall:\", recall)"
   ]
  },
  {
   "cell_type": "markdown",
   "metadata": {},
   "source": [
    "### 5. Additional Graph Distance Metrics: SHD and SID"
   ]
  },
  {
   "cell_type": "code",
   "execution_count": null,
   "metadata": {},
   "outputs": [],
   "source": [
    "# Compute Structural Hamming Distance (SHD) and Structural Intervention Distance (SID)\n",
    "from causallearn.utils.GraphUtils import to_amat\n",
    "from causallearn.metrics import SHD, SID\n",
    "\n",
    "# Create adjacency matrices\n",
    "nodes_sorted = sorted(nodes)\n",
    "idx_map = {node: i for i, node in enumerate(nodes_sorted)}\n",
    "\n",
    "# Initialize adjacency matrices\n",
    "n = len(nodes_sorted)\n",
    "amat_bn = [[0]*n for _ in range(n)]\n",
    "amat_pc = [[0]*n for _ in range(n)]\n",
    "\n",
    "for u, v in G_bn.edges():\n",
    "    amat_bn[idx_map[u]][idx_map[v]] = 1\n",
    "\n",
    "for u, v in G_pc_directed.edges():\n",
    "    amat_pc[idx_map[u]][idx_map[v]] = 1\n",
    "\n",
    "# Compute SHD and SID\n",
    "shd = SHD.shd(amat_bn, amat_pc)\n",
    "sid = SID.sid(amat_bn, amat_pc)\n",
    "print(\"Structural Hamming Distance (SHD):\", shd)\n",
    "print(\"Structural Intervention Distance (SID):\", sid)"
   ]
  }
 ],
 "metadata": {
  "kernelspec": {
   "display_name": "1_PC",
   "language": "python",
   "name": "python3"
  },
  "language_info": {
   "codemirror_mode": {
    "name": "ipython",
    "version": 3
   },
   "file_extension": ".py",
   "mimetype": "text/x-python",
   "name": "python",
   "nbconvert_exporter": "python",
   "pygments_lexer": "ipython3",
   "version": "3.11.11"
  }
 },
 "nbformat": 4,
 "nbformat_minor": 5
}
